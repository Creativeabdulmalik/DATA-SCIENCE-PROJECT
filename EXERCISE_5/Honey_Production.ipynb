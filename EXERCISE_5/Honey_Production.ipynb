{
 "cells": [
  {
   "cell_type": "markdown",
   "id": "c0b6bf98",
   "metadata": {},
   "source": [
    "# HONEY PRODUCTION EXLANATORY DATA ANALYSIS"
   ]
  },
  {
   "cell_type": "code",
   "execution_count": 11,
   "id": "9c4f2e42",
   "metadata": {},
   "outputs": [],
   "source": [
    "import pandas as pd\n",
    "import matplotlib.pyplot as plt\n",
    "import seaborn as sns\n",
    "import numpy as np"
   ]
  },
  {
   "cell_type": "code",
   "execution_count": null,
   "id": "0842a24f",
   "metadata": {},
   "outputs": [
    {
     "name": "stdout",
     "output_type": "stream",
     "text": [
      "  state   num_col  yield_percol  total_prod      stocks  price_perlb  \\\n",
      "0    AL   16000.0            71   1136000.0    159000.0         0.72   \n",
      "1    AZ   55000.0            60   3300000.0   1485000.0         0.64   \n",
      "2    AR   53000.0            65   3445000.0   1688000.0         0.59   \n",
      "3    CA  450000.0            83  37350000.0  12326000.0         0.62   \n",
      "4    CO   27000.0            72   1944000.0   1594000.0         0.70   \n",
      "\n",
      "   prod_value  year  \n",
      "0    818000.0  1998  \n",
      "1   2112000.0  1998  \n",
      "2   2033000.0  1998  \n",
      "3  23157000.0  1998  \n",
      "4   1361000.0  1998  \n",
      "state            object\n",
      "num_col         float64\n",
      "yield_percol      int64\n",
      "total_prod      float64\n",
      "stocks          float64\n",
      "price_perlb     float64\n",
      "prod_value      float64\n",
      "year              int64\n",
      "dtype: object\n"
     ]
    }
   ],
   "source": [
    "#load the honey production dataset\n",
    "honeyproduction = pd.read_csv('honeyproduction.csv')\n",
    "# Display the first few rows of the dataset\n",
    "print(honeyproduction.head())\n",
    "# Display the data types of each column\n",
    "print(honeyproduction.dtypes)"
   ]
  },
  {
   "cell_type": "code",
   "execution_count": 4,
   "id": "cc776d34",
   "metadata": {},
   "outputs": [
    {
     "name": "stdout",
     "output_type": "stream",
     "text": [
      "<class 'pandas.core.frame.DataFrame'>\n",
      "RangeIndex: 626 entries, 0 to 625\n",
      "Data columns (total 8 columns):\n",
      " #   Column        Non-Null Count  Dtype  \n",
      "---  ------        --------------  -----  \n",
      " 0   state         626 non-null    object \n",
      " 1   num_col       626 non-null    float64\n",
      " 2   yield_percol  626 non-null    int64  \n",
      " 3   total_prod    626 non-null    float64\n",
      " 4   stocks        626 non-null    float64\n",
      " 5   price_perlb   626 non-null    float64\n",
      " 6   prod_value    626 non-null    float64\n",
      " 7   year          626 non-null    int64  \n",
      "dtypes: float64(5), int64(2), object(1)\n",
      "memory usage: 39.3+ KB\n"
     ]
    }
   ],
   "source": [
    "# Display the last few rows of the dataset\n",
    "\n",
    "honeyproduction.info()"
   ]
  },
  {
   "cell_type": "code",
   "execution_count": 13,
   "id": "8c1bdd4a",
   "metadata": {},
   "outputs": [
    {
     "data": {
      "application/vnd.microsoft.datawrangler.viewer.v0+json": {
       "columns": [
        {
         "name": "index",
         "rawType": "int64",
         "type": "integer"
        },
        {
         "name": "state",
         "rawType": "object",
         "type": "string"
        },
        {
         "name": "num_col",
         "rawType": "float64",
         "type": "float"
        },
        {
         "name": "yield_percol",
         "rawType": "int64",
         "type": "integer"
        },
        {
         "name": "total_prod",
         "rawType": "float64",
         "type": "float"
        },
        {
         "name": "stocks",
         "rawType": "float64",
         "type": "float"
        },
        {
         "name": "price_perlb",
         "rawType": "float64",
         "type": "float"
        },
        {
         "name": "prod_value",
         "rawType": "float64",
         "type": "float"
        },
        {
         "name": "year",
         "rawType": "int64",
         "type": "integer"
        }
       ],
       "ref": "31a9cb10-ef3f-4304-959b-750dc4c92cca",
       "rows": [
        [
         "621",
         "VA",
         "4000.0",
         "41",
         "164000.0",
         "23000.0",
         "3.77",
         "618000.0",
         "2012"
        ],
        [
         "622",
         "WA",
         "62000.0",
         "41",
         "2542000.0",
         "1017000.0",
         "2.38",
         "6050000.0",
         "2012"
        ],
        [
         "623",
         "WV",
         "6000.0",
         "48",
         "288000.0",
         "95000.0",
         "2.91",
         "838000.0",
         "2012"
        ],
        [
         "624",
         "WI",
         "60000.0",
         "69",
         "4140000.0",
         "1863000.0",
         "2.05",
         "8487000.0",
         "2012"
        ],
        [
         "625",
         "WY",
         "50000.0",
         "51",
         "2550000.0",
         "459000.0",
         "1.87",
         "4769000.0",
         "2012"
        ]
       ],
       "shape": {
        "columns": 8,
        "rows": 5
       }
      },
      "text/html": [
       "<div>\n",
       "<style scoped>\n",
       "    .dataframe tbody tr th:only-of-type {\n",
       "        vertical-align: middle;\n",
       "    }\n",
       "\n",
       "    .dataframe tbody tr th {\n",
       "        vertical-align: top;\n",
       "    }\n",
       "\n",
       "    .dataframe thead th {\n",
       "        text-align: right;\n",
       "    }\n",
       "</style>\n",
       "<table border=\"1\" class=\"dataframe\">\n",
       "  <thead>\n",
       "    <tr style=\"text-align: right;\">\n",
       "      <th></th>\n",
       "      <th>state</th>\n",
       "      <th>num_col</th>\n",
       "      <th>yield_percol</th>\n",
       "      <th>total_prod</th>\n",
       "      <th>stocks</th>\n",
       "      <th>price_perlb</th>\n",
       "      <th>prod_value</th>\n",
       "      <th>year</th>\n",
       "    </tr>\n",
       "  </thead>\n",
       "  <tbody>\n",
       "    <tr>\n",
       "      <th>621</th>\n",
       "      <td>VA</td>\n",
       "      <td>4000.0</td>\n",
       "      <td>41</td>\n",
       "      <td>164000.0</td>\n",
       "      <td>23000.0</td>\n",
       "      <td>3.77</td>\n",
       "      <td>618000.0</td>\n",
       "      <td>2012</td>\n",
       "    </tr>\n",
       "    <tr>\n",
       "      <th>622</th>\n",
       "      <td>WA</td>\n",
       "      <td>62000.0</td>\n",
       "      <td>41</td>\n",
       "      <td>2542000.0</td>\n",
       "      <td>1017000.0</td>\n",
       "      <td>2.38</td>\n",
       "      <td>6050000.0</td>\n",
       "      <td>2012</td>\n",
       "    </tr>\n",
       "    <tr>\n",
       "      <th>623</th>\n",
       "      <td>WV</td>\n",
       "      <td>6000.0</td>\n",
       "      <td>48</td>\n",
       "      <td>288000.0</td>\n",
       "      <td>95000.0</td>\n",
       "      <td>2.91</td>\n",
       "      <td>838000.0</td>\n",
       "      <td>2012</td>\n",
       "    </tr>\n",
       "    <tr>\n",
       "      <th>624</th>\n",
       "      <td>WI</td>\n",
       "      <td>60000.0</td>\n",
       "      <td>69</td>\n",
       "      <td>4140000.0</td>\n",
       "      <td>1863000.0</td>\n",
       "      <td>2.05</td>\n",
       "      <td>8487000.0</td>\n",
       "      <td>2012</td>\n",
       "    </tr>\n",
       "    <tr>\n",
       "      <th>625</th>\n",
       "      <td>WY</td>\n",
       "      <td>50000.0</td>\n",
       "      <td>51</td>\n",
       "      <td>2550000.0</td>\n",
       "      <td>459000.0</td>\n",
       "      <td>1.87</td>\n",
       "      <td>4769000.0</td>\n",
       "      <td>2012</td>\n",
       "    </tr>\n",
       "  </tbody>\n",
       "</table>\n",
       "</div>"
      ],
      "text/plain": [
       "    state  num_col  yield_percol  total_prod     stocks  price_perlb  \\\n",
       "621    VA   4000.0            41    164000.0    23000.0         3.77   \n",
       "622    WA  62000.0            41   2542000.0  1017000.0         2.38   \n",
       "623    WV   6000.0            48    288000.0    95000.0         2.91   \n",
       "624    WI  60000.0            69   4140000.0  1863000.0         2.05   \n",
       "625    WY  50000.0            51   2550000.0   459000.0         1.87   \n",
       "\n",
       "     prod_value  year  \n",
       "621    618000.0  2012  \n",
       "622   6050000.0  2012  \n",
       "623    838000.0  2012  \n",
       "624   8487000.0  2012  \n",
       "625   4769000.0  2012  "
      ]
     },
     "execution_count": 13,
     "metadata": {},
     "output_type": "execute_result"
    }
   ],
   "source": [
    "honeyproduction.tail()"
   ]
  },
  {
   "cell_type": "code",
   "execution_count": 28,
   "id": "eaaeb69d",
   "metadata": {},
   "outputs": [
    {
     "data": {
      "image/png": "[encoded data removed]",
      "text/plain": [
       "<Figure size 640x480 with 1 Axes>"
      ]
     },
     "metadata": {},
     "output_type": "display_data"
    }
   ],
   "source": [
    "# total Count the occurrences of each category\n",
    "category_counts =honeyproduction['year'].value_counts()\n",
    "\n",
    "# bar chart\n",
    "category_counts.plot(kind='bar', color='darkblue',   edgecolor='black', title='YEAR COUNT')\n",
    "plt.xlabel(\"YEAR\")\n",
    "plt.ylabel(\"Count\")\n",
    "plt.show()\n"
   ]
  },
  {
   "cell_type": "code",
   "execution_count": null,
   "id": "95a1f85e",
   "metadata": {},
   "outputs": [],
   "source": [
    "# Scatter plot\n",
    "honeyproduction.plot(kind='scatter', x='year', y='total_prod', color='blue', title='Honey Production Over Years')\n",
    "plt.xlabel(\"Year\")\n",
    "plt.ylabel(\"Total Production\")\n",
    "plt.show()\n"
   ]
  },
  {
   "cell_type": "code",
   "execution_count": 50,
   "id": "e67a167f",
   "metadata": {},
   "outputs": [
    {
     "data": {
      "image/png": "[encoded data removed]",
      "text/plain": [
       "<Figure size 640x480 with 1 Axes>"
      ]
     },
     "metadata": {},
     "output_type": "display_data"
    }
   ],
   "source": [
    "# Histogram\n",
    "honeyproduction['year'].plot(kind='hist', bins=10, color='lightgreen', edgecolor='black', title='Year Distribution')\n",
    "plt.xlabel(\"Year\")\n",
    "plt.ylabel(\"Frequency\")\n",
    "plt.show()"
   ]
  },
  {
   "cell_type": "code",
   "execution_count": null,
   "id": "add76acd",
   "metadata": {},
   "outputs": [],
   "source": [
    "# Calculate the average honey production for each state\n",
    "average_production = honeyproduction.groupby('state')['total_prod'].mean().reset_index()\n",
    "# Plot the average honey production for each state\n",
    "plt.figure(figsize=(12, 6))\n",
    "sns.barplot(x='state', y='total_prod', data=average_production, palette='viridis')\n",
    "plt.title('Average Honey Production by State')\n",
    "plt.xlabel('State')\n",
    "plt.ylabel('Average Production')\n",
    "plt.xticks(rotation=45)\n",
    "plt.show()"
   ]
  }
 ],
 "metadata": {
  "kernelspec": {
   "display_name": "ArewaDs-Training",
   "language": "python",
   "name": "python3"
  },
  "language_info": {
   "codemirror_mode": {
    "name": "ipython",
    "version": 3
   },
   "file_extension": ".py",
   "mimetype": "text/x-python",
   "name": "python",
   "nbconvert_exporter": "python",
   "pygments_lexer": "ipython3",
   "version": "3.12.10"
  }
 },
 "nbformat": 4,
 "nbformat_minor": 5
}
