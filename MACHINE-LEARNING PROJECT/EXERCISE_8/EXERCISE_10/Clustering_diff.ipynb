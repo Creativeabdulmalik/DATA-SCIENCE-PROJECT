{
 "cells": [
  {
   "cell_type": "code",
   "execution_count": null,
   "id": "b2f6133a",
   "metadata": {},
   "outputs": [],
   "source": [
    "import pandas as pd\n",
    "from sklearn.cluster import DBSCAN, KMeans\n",
    "from sklearn.preprocessing import StandardScaler\n",
    "!pip install openpyxl\n",
    "import pandas as pd\n",
    "import numpy as np\n",
    "import matplotlib.pyplot as plt\n",
    "import seaborn as sns\n",
    "from sklearn.preprocessing import StandardScaler, LabelEncoder\n",
    "from sklearn.cluster import DBSCAN, KMeans\n",
    "from sklearn.metrics import silhouette_score, adjusted_rand_score\n",
    "from sklearn.neighbors import NearestNeighbors\n",
    "import warnings\n",
    "warnings.filterwarnings('ignore')\n",
    "\n",
    "# Set style for better visuals\n",
    "plt.style.use('default')\n",
    "sns.set_style(\"whitegrid\")\n",
    "\n",
    "# Load data and prepare it\n",
    "df = pd.read_excel('Pumpkin_Seeds_Dataset.xlsx')\n",
    "X = df[['Area', 'Perimeter']].values  \n",
    "X_scaled = StandardScaler().fit_transform(X)  "
   ]
  },
  {
   "cell_type": "code",
   "execution_count": null,
   "id": "2594c190",
   "metadata": {},
   "outputs": [],
   "source": [
    "# DBSCAN - finds groups automatically\n",
    "dbscan = DBSCAN(eps=0.5, min_samples=5) \n",
    "dbscan_labels = dbscan.fit_predict(X_scaled)\n",
    "\n",
    "# See the results\n",
    "n_clusters = len(set(dbscan_labels)) - (1 if -1 in dbscan_labels else 0)\n",
    "noise_points = list(dbscan_labels).count(-1)\n",
    "print(f\"DBSCAN found {n_clusters} natural clusters\")\n",
    "print(f\"Noise/outlier points: {noise_points}\")"
   ]
  },
  {
   "cell_type": "code",
   "execution_count": null,
   "id": "0eb04b1f",
   "metadata": {},
   "outputs": [],
   "source": [
    "# find good settings\n",
    "dbscan_configs = [\n",
    "    {'eps': 0.3, 'min_samples': 5},\n",
    "    {'eps': 0.5, 'min_samples': 5}, \n",
    "    {'eps': 0.5, 'min_samples': 10},\n",
    "]\n",
    "\n",
    "for config in dbscan_configs:\n",
    "    dbscan = DBSCAN(**config)\n",
    "    labels = dbscan.fit_predict(X_scaled)\n",
    "    print(f\"Settings: {config} → Found {len(np.unique(labels))} groups\")"
   ]
  },
  {
   "cell_type": "code",
   "execution_count": null,
   "id": "931b7be8",
   "metadata": {},
   "outputs": [],
   "source": [
    "import matplotlib.pyplot as plt\n",
    "\n",
    "# visualization\n",
    "plt.figure(figsize=(15, 5))\n",
    "\n",
    "# True classes\n",
    "plt.subplot(1, 3, 1)\n",
    "plt.scatter(X_scaled[:, 0], X_scaled[:, 1], c=true_labels, cmap='viridis')\n",
    "plt.title('True Seed Types')\n",
    "\n",
    "#  K-Means results\n",
    "plt.subplot(1, 3, 2)\n",
    "plt.scatter(X_scaled[:, 0], X_scaled[:, 1], c=kmeans_labels, cmap='viridis')\n",
    "plt.title('K-Means (2 forced groups)')\n",
    "\n",
    "# DBSCAN results\n",
    "plt.subplot(1, 3, 3)\n",
    "plt.scatter(X_scaled[:, 0], X_scaled[:, 1], c=dbscan_labels, cmap='viridis')\n",
    "plt.title('DBSCAN (natural groups + outliers)')\n",
    "\n",
    "plt.show()"
   ]
  }
 ],
 "metadata": {
  "kernelspec": {
   "display_name": ".venv",
   "language": "python",
   "name": "python3"
  },
  "language_info": {
   "codemirror_mode": {
    "name": "ipython",
    "version": 3
   },
   "file_extension": ".py",
   "mimetype": "text/x-python",
   "name": "python",
   "nbconvert_exporter": "python",
   "pygments_lexer": "ipython3",
   "version": "3.12.10"
  }
 },
 "nbformat": 4,
 "nbformat_minor": 5
}
