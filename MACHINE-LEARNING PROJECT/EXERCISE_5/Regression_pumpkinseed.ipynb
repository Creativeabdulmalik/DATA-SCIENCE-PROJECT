{
 "cells": [
  {
   "cell_type": "code",
   "execution_count": 3,
   "id": "f76fb105",
   "metadata": {},
   "outputs": [],
   "source": [
    "import pandas as pd\n",
    "import numpy as np\n",
    "import matplotlib.pyplot as plt\n",
    "import seaborn as sns\n",
    "from sklearn.model_selection import train_test_split\n",
    "from sklearn.linear_model import LogisticRegression\n",
    "from sklearn.preprocessing import StandardScaler, LabelEncoder\n",
    "from sklearn.metrics import classification_report, confusion_matrix, accuracy_score, roc_curve, auc\n",
    "from sklearn.model_selection import cross_val_score, GridSearchCV"
   ]
  },
  {
   "cell_type": "code",
   "execution_count": null,
   "id": "f8688dea",
   "metadata": {},
   "outputs": [],
   "source": [
    "# installation of openpyxl\n",
    "!pip install openpyxl"
   ]
  },
  {
   "cell_type": "code",
   "execution_count": 7,
   "id": "2f69cfed",
   "metadata": {},
   "outputs": [
    {
     "data": {
      "application/vnd.microsoft.datawrangler.viewer.v0+json": {
       "columns": [
        {
         "name": "index",
         "rawType": "int64",
         "type": "integer"
        },
        {
         "name": "Area",
         "rawType": "int64",
         "type": "integer"
        },
        {
         "name": "Perimeter",
         "rawType": "float64",
         "type": "float"
        },
        {
         "name": "Major_Axis_Length",
         "rawType": "float64",
         "type": "float"
        },
        {
         "name": "Minor_Axis_Length",
         "rawType": "float64",
         "type": "float"
        },
        {
         "name": "Convex_Area",
         "rawType": "int64",
         "type": "integer"
        },
        {
         "name": "Equiv_Diameter",
         "rawType": "float64",
         "type": "float"
        },
        {
         "name": "Eccentricity",
         "rawType": "float64",
         "type": "float"
        },
        {
         "name": "Solidity",
         "rawType": "float64",
         "type": "float"
        },
        {
         "name": "Extent",
         "rawType": "float64",
         "type": "float"
        },
        {
         "name": "Roundness",
         "rawType": "float64",
         "type": "float"
        },
        {
         "name": "Aspect_Ration",
         "rawType": "float64",
         "type": "float"
        },
        {
         "name": "Compactness",
         "rawType": "float64",
         "type": "float"
        },
        {
         "name": "Class",
         "rawType": "object",
         "type": "string"
        }
       ],
       "ref": "0fec3eff-c0b4-403f-9688-ecb30b249c0f",
       "rows": [
        [
         "0",
         "56276",
         "888.242",
         "326.1485",
         "220.2388",
         "56831",
         "267.6805",
         "0.7376",
         "0.9902",
         "0.7453",
         "0.8963",
         "1.4809",
         "0.8207",
         "Çerçevelik"
        ],
        [
         "1",
         "76631",
         "1068.146",
         "417.1932",
         "234.2289",
         "77280",
         "312.3614",
         "0.8275",
         "0.9916",
         "0.7151",
         "0.844",
         "1.7811",
         "0.7487",
         "Çerçevelik"
        ],
        [
         "2",
         "71623",
         "1082.987",
         "435.8328",
         "211.0457",
         "72663",
         "301.9822",
         "0.8749",
         "0.9857",
         "0.74",
         "0.7674",
         "2.0651",
         "0.6929",
         "Çerçevelik"
        ],
        [
         "3",
         "66458",
         "992.051",
         "381.5638",
         "222.5322",
         "67118",
         "290.8899",
         "0.8123",
         "0.9902",
         "0.7396",
         "0.8486",
         "1.7146",
         "0.7624",
         "Çerçevelik"
        ],
        [
         "4",
         "66107",
         "998.146",
         "383.8883",
         "220.4545",
         "67117",
         "290.1207",
         "0.8187",
         "0.985",
         "0.6752",
         "0.8338",
         "1.7413",
         "0.7557",
         "Çerçevelik"
        ]
       ],
       "shape": {
        "columns": 13,
        "rows": 5
       }
      },
      "text/html": [
       "<div>\n",
       "<style scoped>\n",
       "    .dataframe tbody tr th:only-of-type {\n",
       "        vertical-align: middle;\n",
       "    }\n",
       "\n",
       "    .dataframe tbody tr th {\n",
       "        vertical-align: top;\n",
       "    }\n",
       "\n",
       "    .dataframe thead th {\n",
       "        text-align: right;\n",
       "    }\n",
       "</style>\n",
       "<table border=\"1\" class=\"dataframe\">\n",
       "  <thead>\n",
       "    <tr style=\"text-align: right;\">\n",
       "      <th></th>\n",
       "      <th>Area</th>\n",
       "      <th>Perimeter</th>\n",
       "      <th>Major_Axis_Length</th>\n",
       "      <th>Minor_Axis_Length</th>\n",
       "      <th>Convex_Area</th>\n",
       "      <th>Equiv_Diameter</th>\n",
       "      <th>Eccentricity</th>\n",
       "      <th>Solidity</th>\n",
       "      <th>Extent</th>\n",
       "      <th>Roundness</th>\n",
       "      <th>Aspect_Ration</th>\n",
       "      <th>Compactness</th>\n",
       "      <th>Class</th>\n",
       "    </tr>\n",
       "  </thead>\n",
       "  <tbody>\n",
       "    <tr>\n",
       "      <th>0</th>\n",
       "      <td>56276</td>\n",
       "      <td>888.242</td>\n",
       "      <td>326.1485</td>\n",
       "      <td>220.2388</td>\n",
       "      <td>56831</td>\n",
       "      <td>267.6805</td>\n",
       "      <td>0.7376</td>\n",
       "      <td>0.9902</td>\n",
       "      <td>0.7453</td>\n",
       "      <td>0.8963</td>\n",
       "      <td>1.4809</td>\n",
       "      <td>0.8207</td>\n",
       "      <td>Çerçevelik</td>\n",
       "    </tr>\n",
       "    <tr>\n",
       "      <th>1</th>\n",
       "      <td>76631</td>\n",
       "      <td>1068.146</td>\n",
       "      <td>417.1932</td>\n",
       "      <td>234.2289</td>\n",
       "      <td>77280</td>\n",
       "      <td>312.3614</td>\n",
       "      <td>0.8275</td>\n",
       "      <td>0.9916</td>\n",
       "      <td>0.7151</td>\n",
       "      <td>0.8440</td>\n",
       "      <td>1.7811</td>\n",
       "      <td>0.7487</td>\n",
       "      <td>Çerçevelik</td>\n",
       "    </tr>\n",
       "    <tr>\n",
       "      <th>2</th>\n",
       "      <td>71623</td>\n",
       "      <td>1082.987</td>\n",
       "      <td>435.8328</td>\n",
       "      <td>211.0457</td>\n",
       "      <td>72663</td>\n",
       "      <td>301.9822</td>\n",
       "      <td>0.8749</td>\n",
       "      <td>0.9857</td>\n",
       "      <td>0.7400</td>\n",
       "      <td>0.7674</td>\n",
       "      <td>2.0651</td>\n",
       "      <td>0.6929</td>\n",
       "      <td>Çerçevelik</td>\n",
       "    </tr>\n",
       "    <tr>\n",
       "      <th>3</th>\n",
       "      <td>66458</td>\n",
       "      <td>992.051</td>\n",
       "      <td>381.5638</td>\n",
       "      <td>222.5322</td>\n",
       "      <td>67118</td>\n",
       "      <td>290.8899</td>\n",
       "      <td>0.8123</td>\n",
       "      <td>0.9902</td>\n",
       "      <td>0.7396</td>\n",
       "      <td>0.8486</td>\n",
       "      <td>1.7146</td>\n",
       "      <td>0.7624</td>\n",
       "      <td>Çerçevelik</td>\n",
       "    </tr>\n",
       "    <tr>\n",
       "      <th>4</th>\n",
       "      <td>66107</td>\n",
       "      <td>998.146</td>\n",
       "      <td>383.8883</td>\n",
       "      <td>220.4545</td>\n",
       "      <td>67117</td>\n",
       "      <td>290.1207</td>\n",
       "      <td>0.8187</td>\n",
       "      <td>0.9850</td>\n",
       "      <td>0.6752</td>\n",
       "      <td>0.8338</td>\n",
       "      <td>1.7413</td>\n",
       "      <td>0.7557</td>\n",
       "      <td>Çerçevelik</td>\n",
       "    </tr>\n",
       "  </tbody>\n",
       "</table>\n",
       "</div>"
      ],
      "text/plain": [
       "    Area  Perimeter  Major_Axis_Length  Minor_Axis_Length  Convex_Area  \\\n",
       "0  56276    888.242           326.1485           220.2388        56831   \n",
       "1  76631   1068.146           417.1932           234.2289        77280   \n",
       "2  71623   1082.987           435.8328           211.0457        72663   \n",
       "3  66458    992.051           381.5638           222.5322        67118   \n",
       "4  66107    998.146           383.8883           220.4545        67117   \n",
       "\n",
       "   Equiv_Diameter  Eccentricity  Solidity  Extent  Roundness  Aspect_Ration  \\\n",
       "0        267.6805        0.7376    0.9902  0.7453     0.8963         1.4809   \n",
       "1        312.3614        0.8275    0.9916  0.7151     0.8440         1.7811   \n",
       "2        301.9822        0.8749    0.9857  0.7400     0.7674         2.0651   \n",
       "3        290.8899        0.8123    0.9902  0.7396     0.8486         1.7146   \n",
       "4        290.1207        0.8187    0.9850  0.6752     0.8338         1.7413   \n",
       "\n",
       "   Compactness       Class  \n",
       "0       0.8207  Çerçevelik  \n",
       "1       0.7487  Çerçevelik  \n",
       "2       0.6929  Çerçevelik  \n",
       "3       0.7624  Çerçevelik  \n",
       "4       0.7557  Çerçevelik  "
      ]
     },
     "execution_count": 7,
     "metadata": {},
     "output_type": "execute_result"
    }
   ],
   "source": [
    "# Load the dataset\n",
    "df = pd.read_excel('Pumpkin_Seeds_Dataset.xlsx')\n",
    "df.head()"
   ]
  },
  {
   "cell_type": "code",
   "execution_count": null,
   "metadata": {},
   "outputs": [],
   "source": [
    "# Display basic information about the dataset\n",
    "\n",
    "# See the first few rows\n",
    "print(\"First look at our data:\")\n",
    "print(data.head())\n",
    "\n",
    "# Check how many of each type\n",
    "print(\"\\nTypes of pumpkin seeds:\")\n",
    "print(data['Class'].value_counts())"
   ]
  },
  {
   "cell_type": "code",
   "execution_count": null,
   "id": "ca0ad5b5",
   "metadata": {},
   "outputs": [],
   "source": [
    "# compare seed sizes\n",
    "plt.figure(figsize=(10, 6))\n",
    "sns.boxplot(x='Class', y='Area', data=data)\n",
    "plt.title('Seed Area Comparison')\n",
    "plt.xlabel('Seed Type')\n",
    "plt.ylabel('Area (pixels)')\n",
    "plt.show()"
   ]
  },
  {
   "cell_type": "code",
   "execution_count": null,
   "id": "f48f4bca",
   "metadata": {},
   "outputs": [],
   "source": [
    "# Convert seed types to numbers (0 and 1)\n",
    "le = LabelEncoder()\n",
    "data['Class_number'] = le.fit_transform(data['Class'])\n",
    "\n"
   ]
  },
  {
   "cell_type": "code",
   "execution_count": null,
   "id": "83e6a135",
   "metadata": {},
   "outputs": [],
   "source": [
    "# Prepare features (measurements) and target (seed type)\n",
    "X = data.drop(['Class', 'Class_number'], axis=1)  # All measurements\n",
    "y = data['Class_number']  # Seed type (0 or 1)"
   ]
  },
  {
   "cell_type": "code",
   "execution_count": null,
   "id": "fbb63ea6",
   "metadata": {},
   "outputs": [],
   "source": [
    "# Scale the measurements (make them same size)\n",
    "scaler = StandardScaler()\n",
    "X_scaled = scaler.fit_transform(X)"
   ]
  },
  {
   "cell_type": "code",
   "execution_count": null,
   "id": "cf4cc65d",
   "metadata": {},
   "outputs": [
    {
     "name": "stdout",
     "output_type": "stream",
     "text": [
      "Model trained.\n"
     ]
    }
   ],
   "source": [
    "# Split data: 80% for training, 20% for testing\n",
    "X_train, X_test, y_train, y_test = train_test_split(\n",
    "    X_scaled, y, test_size=0.2, random_state=42\n",
    ")"
   ]
  },
  {
   "cell_type": "code",
   "execution_count": null,
   "id": "b0a7dc2e",
   "metadata": {},
   "outputs": [],
   "source": [
    "\n",
    "# train our model\n",
    "model = LogisticRegression()\n",
    "model.fit(X_train, y_train)\n",
    "\n",
    "print(\"Model trained.\")"
   ]
  },
  {
   "cell_type": "code",
   "execution_count": null,
   "id": "86bbdd75",
   "metadata": {},
   "outputs": [],
   "source": [
    "\n",
    "# Make predictions\n",
    "predictions = model.predict(X_test)"
   ]
  },
  {
   "cell_type": "code",
   "execution_count": null,
   "id": "5e68dea9",
   "metadata": {},
   "outputs": [],
   "source": [
    "# Calculate accuracy\n",
    "from sklearn.metrics import accuracy_score\n",
    "accuracy = accuracy_score(y_test, predictions)\n",
    "print(f\"Model Accuracy: {accuracy:.2%}\")"
   ]
  },
  {
   "cell_type": "code",
   "execution_count": 34,
   "id": "45b9ebfb",
   "metadata": {},
   "outputs": [
    {
     "name": "stdout",
     "output_type": "stream",
     "text": [
      "Most important features:\n",
      "           Feature  Importance\n",
      "0             Area    2.195285\n",
      "4      Convex_Area    2.018938\n",
      "5   Equiv_Diameter    1.999467\n",
      "11     Compactness    1.916455\n",
      "10   Aspect_Ration    1.893158\n"
     ]
    }
   ],
   "source": [
    "# features that are most important\n",
    "feature_importance = pd.DataFrame({\n",
    "    'Feature': data.drop(['Class', 'Class_number'], axis=1).columns,\n",
    "    'Importance': abs(model.coef_[0])\n",
    "}).sort_values('Importance', ascending=False)\n",
    "\n",
    "print(\"Most important features:\")\n",
    "print(feature_importance.head(5))"
   ]
  },
  {
   "cell_type": "code",
   "execution_count": 35,
   "id": "bf8ced2e",
   "metadata": {},
   "outputs": [
    {
     "data": {
      "image/png": "[encoded data removed]",
      "text/plain": [
       "<Figure size 800x600 with 2 Axes>"
      ]
     },
     "metadata": {},
     "output_type": "display_data"
    }
   ],
   "source": [
    "\n",
    "# Create confusion matrix\n",
    "cm = confusion_matrix(y_test, predictions)\n",
    "\n",
    "# Plot it\n",
    "plt.figure(figsize=(8, 6))\n",
    "sns.heatmap(cm, annot=True, fmt='d', cmap='Blues')\n",
    "plt.title('How Often We Got It Right/Wrong')\n",
    "plt.xlabel('Predicted Type')\n",
    "plt.ylabel('Actual Type')\n",
    "plt.show()"
   ]
  },
  {
   "cell_type": "markdown",
   "id": "294b5d47",
   "metadata": {},
   "source": [
    "#### Real-World Use\n",
    "This modeling could help farmers automatically sort seeds, quality control in factories, or help scientists study seed characteristics!"
   ]
  }
 ],
 "metadata": {
  "kernelspec": {
   "display_name": ".venv",
   "language": "python",
   "name": "python3"
  },
  "language_info": {
   "codemirror_mode": {
    "name": "ipython",
    "version": 3
   },
   "file_extension": ".py",
   "mimetype": "text/x-python",
   "name": "python",
   "nbconvert_exporter": "python",
   "pygments_lexer": "ipython3",
   "version": "3.12.10"
  }
 },
 "nbformat": 4,
 "nbformat_minor": 5
}
